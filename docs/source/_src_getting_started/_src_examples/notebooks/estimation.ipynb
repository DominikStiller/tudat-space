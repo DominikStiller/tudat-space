{
 "cells": [
  {
   "cell_type": "markdown",
   "id": "8128673a-fb09-4f01-8242-9f284172dfb0",
   "metadata": {
    "tags": []
   },
   "source": [
    "# Estimation examples\n",
    "\n",
    "## Estimation of dynamics and parameters"
   ]
  },
  {
   "cell_type": "markdown",
   "id": "fd0dfafd-4737-4e1b-9110-00fa676085d0",
   "metadata": {
        "tags": [
          "nbsphinx-toctree"
        ],
        "nbsphinx-toctree":{
          "maxdepth": 1,
          "caption": "Table of Contents"
        }
      },
   "source": [
    "* [Covariance estimated parameters](./estimation/covariance_estimated_parameters.ipynb)"
   ]
  },
  {
   "cell_type": "markdown",
   "id": "fd0dfafd-4737-4e1b-9110-00fa676085d0",
   "metadata": {
        "tags": [
          "nbsphinx-gallery"
        ],
        "nbsphinx-gallery":{
          "caption": "Gallery",
          "hidden": true
        }
      },
   "source": [
    "* [Covariance estimated parameters](./estimation/covariance_estimated_parameters.ipynb)"
   ]
  }
 ],
 "metadata": {
  "kernelspec": {
   "display_name": "Python 3 (ipykernel)",
   "language": "python",
   "name": "python3"
  },
  "language_info": {
   "codemirror_mode": {
    "name": "ipython",
    "version": 3
   },
   "file_extension": ".py",
   "mimetype": "text/x-python",
   "name": "python",
   "nbconvert_exporter": "python",
   "pygments_lexer": "ipython3",
   "version": "3.7.12"
  }
 },
 "nbformat": 4,
 "nbformat_minor": 5
}
