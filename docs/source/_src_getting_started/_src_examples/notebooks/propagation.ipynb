{
 "cells": [
  {
   "cell_type": "markdown",
   "id": "079d81c5-b601-4198-b58b-db7f123c83d5",
   "metadata": {},
   "source": [
    "# Propagation examples\n",
    "\n",
    "## Numerical propagation of dynamics"
   ]
  },
  {
   "cell_type": "markdown",
   "id": "3668fd4e-acac-4945-8a9d-aab1ff27f795",
   "metadata": {
        "tags": [
          "nbsphinx-toctree"
        ],
        "nbsphinx-toctree":{
          "maxdepth": 1,
          "caption": "Table of Contents"
        }
      },
   "source": [
    "* [Impact manifolds lpo CR3BP](./propagation/impact_manifolds_lpo_cr3bp.ipynb)\n",
    "* [Keplerian satellite orbit](./propagation/keplerian_satellite_orbit.ipynb)\n",
    "* [Linear sensitivity analysis](./propagation/linear_sensitivity_analysis.ipynb)\n",
    "* [MGA trajectories](./propagation/mga_trajectories.ipynb)\n",
    "* [Perturbed satellite orbit](./propagation/perturbed_satellite_orbit.ipynb)\n",
    "* [Re-entry trajectory](./propagation/reentry_trajectory.ipynb)\n",
    "* [Separation satellite differential drag](./propagation/separation_satellites_diff_drag.ipynb)\n",
    "* [Solar system propagation](./propagation/solar_system_propagation.ipynb)\n",
    "* [Two stage rocket ascent](./propagation/two_stage_rocket_ascent.ipynb)"
   ]
  },
  {
   "cell_type": "markdown",
   "id": "3668fd4e-acac-4945-8a9d-aab1ff27f795",
   "metadata": {
        "tags": [
          "nbsphinx-gallery"
        ],
        "nbsphinx-gallery":{
          "caption": "Gallery",
          "hidden": true
        }
      },
   "source": [
    "* [Impact manifolds lpo CR3BP](./propagation/impact_manifolds_lpo_cr3bp.ipynb)\n",
    "* [Keplerian satellite orbit](./propagation/keplerian_satellite_orbit.ipynb)\n",
    "* [Linear sensitivity analysis](./propagation/linear_sensitivity_analysis.ipynb)\n",
    "* [MGA trajectories](./propagation/mga_trajectories.ipynb)\n",
    "* [Perturbed satellite orbit](./propagation/perturbed_satellite_orbit.ipynb)\n",
    "* [Re-entry trajectory](./propagation/reentry_trajectory.ipynb)\n",
    "* [Separation satellite differential drag](./propagation/separation_satellites_diff_drag.ipynb)\n",
    "* [Solar system propagation](./propagation/solar_system_propagation.ipynb)\n",
    "* [Two stage rocket ascent](./propagation/two_stage_rocket_ascent.ipynb)"
   ]
  }
 ],
 "metadata": {
  "kernelspec": {
   "display_name": "Python 3 (ipykernel)",
   "language": "python",
   "name": "python3"
  },
  "language_info": {
   "codemirror_mode": {
    "name": "ipython",
    "version": 3
   },
   "file_extension": ".py",
   "mimetype": "text/x-python",
   "name": "python",
   "nbconvert_exporter": "python",
   "pygments_lexer": "ipython3",
   "version": "3.7.12"
  }
 },
 "nbformat": 4,
 "nbformat_minor": 5
}
