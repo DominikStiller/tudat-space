{
 "cells": [
  {
   "cell_type": "markdown",
   "id": "84807ae0-3652-4627-bba0-9e1011ee11ee",
   "metadata": {},
   "source": [
    "# PyGMO examples\n",
    "\n",
    "If you have never used PyGMO before, please consider reading our introductory guide: \n",
    "* (Optimization with PyGMO)[../../../_src_advanced_topics/optimization_pygmo.rst]"
   ]
  },
  {
   "cell_type": "markdown",
   "id": "6b4884b1-cb77-4bad-bb8b-cb4360ee544f",
   "metadata": {
        "tags": [
          "nbsphinx-toctree"
        ],
        "nbsphinx-toctree":{
          "maxdepth": 1,
          "caption": "Table of Contents"
        }
      },
   "source": [
    "## Optimization with PyGMO\n",
    "\n",
    "* [Cassini1 MGA optimization](./pygmo/cassini1_mga_optimization.ipynb)\n",
    "* [Covariance estimated parameters](./pygmo/himmelblau_minimization.ipynb.ipynb)\n",
    "* [Covariance estimated parameters](./pygmo/hodographic_shaping_mga_optimization.ipynb.ipynb)"
   ]
  },
  {
   "cell_type": "markdown",
   "id": "f5776ddd-168b-4497-afdc-fd9c8d303e88",
   "metadata": {},
   "source": [
    "## Asteroid Orbit Optimization\n",
    "\n",
    "* [Covariance estimated parameters](./pygmo/cassini1_mga_optimization.ipynb)\n",
    "* [Covariance estimated parameters](./pygmo/cassini1_mga_optimization.ipynb)\n",
    "* [Covariance estimated parameters](./pygmo/cassini1_mga_optimization.ipynb)"
   ]
  },
  {
   "cell_type": "markdown",
   "id": "6b4884b1-cb77-4bad-bb8b-cb4360ee544f",
   "metadata": {
        "tags": [
          "nbsphinx-gallery"
        ],
        "nbsphinx-gallery":{
          "caption": "Gallery",
          "hidden": true
        }
      },
   "source": [
    "## Optimization with PyGMO\n",
    "\n",
    "* [Cassini1 MGA optimization](./pygmo/cassini1_mga_optimization.ipynb)\n",
    "* [Covariance estimated parameters](./pygmo/himmelblau_minimization.ipynb.ipynb)\n",
    "* [Covariance estimated parameters](./pygmo/hodographic_shaping_mga_optimization.ipynb.ipynb)"
   ]
  }
 ],
 "metadata": {
  "kernelspec": {
   "display_name": "Python 3 (ipykernel)",
   "language": "python",
   "name": "python3"
  },
  "language_info": {
   "codemirror_mode": {
    "name": "ipython",
    "version": 3
   },
   "file_extension": ".py",
   "mimetype": "text/x-python",
   "name": "python",
   "nbconvert_exporter": "python",
   "pygments_lexer": "ipython3",
   "version": "3.7.12"
  }
 },
 "nbformat": 4,
 "nbformat_minor": 5
}
