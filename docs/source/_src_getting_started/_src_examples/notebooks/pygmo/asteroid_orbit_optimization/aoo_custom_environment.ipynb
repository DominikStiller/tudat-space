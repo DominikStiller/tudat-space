{
 "cells": [
  {
   "cell_type": "markdown",
   "id": "c28e1968",
   "metadata": {},
   "source": [
    "# Asteroid orbit optimization with PyGMO - Custom Environment\n",
    "Copyright (c) 2010-2022, Delft University of Technology. All rights reserved. This file is part of the Tudat. Redistribution  and use in source and binary forms, with or without modification, are permitted exclusively under the terms of the Modified BSD license. You should have received a copy of the license with this file. If not, please or visit: http://tudat.tudelft.nl/LICENSE.\n",
    "\n",
    "## Context\n",
    "The aim of this tutorial is to illustrate the use of PyGMO to optimize an astrodynamics problem simulated with tudatpy. The problem describes the orbit design around a small body; the [Itokawa asteroid](https://en.wikipedia.org/wiki/25143_Itokawa). This example consists of three parts that build on each other to ultimately perform an orbit optimization. The three parts are built up as follows: Custom Environment (this page), [Design Space Exploration](https://tudat-space.readthedocs.io/en/latest/_src_getting_started/_src_examples/notebooks/pygmo/asteroid_orbit_optimization/aoo_design_space_exploration.html), and [Optimization](https://tudat-space.readthedocs.io/en/latest/_src_getting_started/_src_examples/notebooks/pygmo/asteroid_orbit_optimization/aoo_optimization.html).\n",
    "\n",
    "\n",
    "## The problem definition\n",
    "\n",
    "The 4 design variables are:\n",
    "- initial values of the semi-major axis.\n",
    "- initial eccentricity.\n",
    "- initial inclination.\n",
    "- initial longitude of the ascending node.\n",
    " \n",
    "The 2 objectives are:\n",
    "- good coverage (maximizing the mean value of the absolute longitude w.r.t. Itokawa over the full propagation).\n",
    "- good resolution (the mean value of the distance should be minimized).\n",
    " \n",
    "The constraints are set on the altitude: all the sets of design variables leading to an orbit.\n",
    "\n",
    "It is assumed that the reader of this tutorial is already familiar with the content of [this basic PyGMO tutorial](https://tudat-space.readthedocs.io/en/latest/_src_resources/pygmo_basics.html).\n",
    "\n",
    "The full PyGMO documentation is available [on this website](https://esa.github.io/pygmo2/index.html). Be careful to read the\n",
    "correct the documentation webpage (there is also a similar one for previous yet now outdated versions [here](https://esa.github.io/pygmo/index.html); as you can see, they can easily be confused).\n",
    "\n",
    "PyGMO is the Python counterpart of [PAGMO](https://esa.github.io/pagmo2/index.html)."
   ]
  },
  {
   "cell_type": "markdown",
   "id": "9178ad22",
   "metadata": {},
   "source": [
    "## Import statements\n",
    "The required import statements are made here, at the very beginning.\n",
    "\n",
    "Some standard modules are first loaded. These are `os`, `numpy` and `matplotlib.pyplot`.\n",
    "\n",
    "Then, the different modules of `tudatpy` that will be used are imported.\n",
    "\n",
    "Finally, in this example, we also need to import the `pygmo` library."
   ]
  },
  {
   "cell_type": "code",
   "execution_count": 1,
   "id": "d41ceb86",
   "metadata": {
    "pycharm": {
     "is_executing": true
    }
   },
   "outputs": [],
   "source": [
    "# Load standard modules\n",
    "import os\n",
    "import numpy as np\n",
    "# Uncomment the following to make plots interactive\n",
    "# %matplotlib widget\n",
    "from matplotlib import pyplot as plt\n",
    "from itertools import combinations as comb\n",
    "\n",
    "\n",
    "# Load tudatpy modules\n",
    "from tudatpy.io import save2txt\n",
    "from tudatpy.kernel import constants\n",
    "from tudatpy.kernel.interface import spice\n",
    "from tudatpy.kernel.astro import element_conversion\n",
    "from tudatpy.kernel.astro import frame_conversion\n",
    "from tudatpy.kernel import numerical_simulation\n",
    "from tudatpy.kernel.numerical_simulation import environment_setup\n",
    "from tudatpy.kernel.numerical_simulation import propagation_setup\n",
    "from tudatpy.util import pareto_optimums\n",
    "\n",
    "# Load pygmo library\n",
    "import pygmo as pg\n",
    "\n",
    "current_dir = os.path.abspath('')"
   ]
  },
  {
   "cell_type": "markdown",
   "id": "a38b32b8",
   "metadata": {},
   "source": [
    "### Itokawa rotation settings\n",
    "The first helper function that is setup is `get_itokawa_rotation_settings()`. This function can be called to get Itokawa rotation settings, of type [environment_setup.rotation_model.RotationModelSettings](https://tudatpy.readthedocs.io/en/latest/rotation_model.html#tudatpy.numerical_simulation.environment_setup.rotation_model.RotationModelSettings), using a constant angular velocity.\n",
    "\n",
    "This function only take the name of the body frame of Itokawa as an input.\n",
    "In addition, some fixed parameters are defined in this function:\n",
    "- The orientation of Itokawa pole, as:\n",
    "    - The pole declination of -66.3 deg.\n",
    "    - The pole right ascension 90.53 deg.\n",
    "    - The meridian fixed at 0 deg.\n",
    "- The rotation rate of Itokawa of 712.143 deg/Earth day."
   ]
  },
  {
   "cell_type": "code",
   "execution_count": 2,
   "id": "944c25d5",
   "metadata": {
    "pycharm": {
     "is_executing": true
    }
   },
   "outputs": [],
   "source": [
    "def get_itokawa_rotation_settings(itokawa_body_frame_name):\n",
    "    # Definition of initial Itokawa orientation conditions through the pole orientation\n",
    "    pole_declination = np.deg2rad(-66.30)     # Declination\n",
    "    pole_right_ascension = np.deg2rad(90.53)  # Right ascension\n",
    "    meridian_at_epoch = 0.0                   # Meridian\n",
    "\n",
    "    # Define initial Itokawa orientation in inertial frame (equatorial plane)\n",
    "    initial_orientation_j2000 = frame_conversion.inertial_to_body_fixed_rotation_matrix(\n",
    "        pole_declination, pole_right_ascension, meridian_at_epoch)\n",
    "    \n",
    "    # Get initial Itokawa orientation in inertial frame but in the Ecliptic plane\n",
    "    initial_orientation_eclipj2000 = np.matmul(spice.compute_rotation_matrix_between_frames(\n",
    "        \"ECLIPJ2000\", \"J2000\", 0.0), initial_orientation_j2000)\n",
    "\n",
    "    # Manually check the results, if desired\n",
    "    check_results = False\n",
    "    if check_results:\n",
    "        np.set_printoptions(precision=100)\n",
    "        print(initial_orientation_j2000)\n",
    "    \n",
    "        print(initial_orientation_eclipj2000)\n",
    "\n",
    "    # Compute rotation rate\n",
    "    rotation_rate = np.deg2rad(712.143) / constants.JULIAN_DAY\n",
    "\n",
    "    # Set up rotational model for Itokawa with constant angular velocity\n",
    "    return environment_setup.rotation_model.simple(\n",
    "        \"ECLIPJ2000\", itokawa_body_frame_name, initial_orientation_eclipj2000, 0.0, rotation_rate)"
   ]
  },
  {
   "cell_type": "markdown",
   "id": "bffdf146",
   "metadata": {},
   "source": [
    "### Itokawa ephemeris settings\n",
    "The next helper function defined, `get_itokawa_ephemeris_settings()`, that can be used to set the ephemeris of Itokawa.\n",
    "\n",
    "The ephemeris for Itokawa are set using a Keplerian orbit around the Sun. To do this, the initial position at a certain epoch is needed. This position is defined inside the function by the following kepler elements:\n",
    "- Semi-major axis of $\\approx$ 1.324 Astronomical Units ($\\approx$ 1.98E+8 km).\n",
    "- Eccentricity of $\\approx$ 0.28.\n",
    "- Inclination of $\\approx$ 1.62 deg.\n",
    "- Inclination of $\\approx$ 1.62 deg.\n",
    "- Argument of periapsis of $\\approx$ 162.8 deg.\n",
    "- Longitude of ascending node of $\\approx$ 69.1 deg.\n",
    "- Mean anomaly of $\\approx$ 187.6 deg.\n",
    "\n",
    "The only input that this function takes is the gravitational parameter of the Sun, which can be obtained using `spice.get_body_gravitational_parameter(\"Sun\")`."
   ]
  },
  {
   "cell_type": "code",
   "execution_count": 3,
   "id": "9bd4ccdf",
   "metadata": {
    "pycharm": {
     "is_executing": true
    }
   },
   "outputs": [],
   "source": [
    "def get_itokawa_ephemeris_settings(sun_gravitational_parameter):\n",
    "    # Define Itokawa initial Kepler elements\n",
    "    itokawa_kepler_elements = np.array([\n",
    "        1.324118017407799 * constants.ASTRONOMICAL_UNIT,\n",
    "        0.2801166461882852,\n",
    "        np.deg2rad(1.621303507642802),\n",
    "        np.deg2rad(162.8147699851312),\n",
    "        np.deg2rad(69.0803904880264),\n",
    "        np.deg2rad(187.6327516838828)])\n",
    "    \n",
    "    # Convert mean anomaly to true anomaly\n",
    "    itokawa_kepler_elements[5] = element_conversion.mean_to_true_anomaly(\n",
    "        eccentricity=itokawa_kepler_elements[1],\n",
    "        mean_anomaly=itokawa_kepler_elements[5])\n",
    "    \n",
    "    # Get epoch of initial Kepler elements (in Julian Days)\n",
    "    kepler_elements_reference_julian_day = 2459000.5\n",
    "    \n",
    "    # Sets new reference epoch for Itokawa ephemerides (different from J2000)\n",
    "    kepler_elements_reference_epoch = (kepler_elements_reference_julian_day - constants.JULIAN_DAY_ON_J2000) \\\n",
    "                                      * constants.JULIAN_DAY\n",
    "    \n",
    "    # Sets the ephemeris model\n",
    "    return environment_setup.ephemeris.keplerian(\n",
    "        itokawa_kepler_elements,\n",
    "        kepler_elements_reference_epoch,\n",
    "        sun_gravitational_parameter,\n",
    "        \"Sun\",\n",
    "        \"ECLIPJ2000\")"
   ]
  },
  {
   "cell_type": "markdown",
   "id": "49ec99b8",
   "metadata": {},
   "source": [
    "### Itokawa gravity field settings\n",
    "The `get_itokawa_gravity_field_settings()` helper function can be used to get the gravity field settings of Itokawa.\n",
    "\n",
    "It creates a Spherical Harmonics gravity field model expanded up to order 4 and degree 4. Normalized coefficients are hardcoded (see `normalized_cosine_coefficients` and `normalized_sine_coefficients`), as well as the gravitational parameter (2.36). The reference radius and the Itokawa body fixed frame are to be given as inputs to this function."
   ]
  },
  {
   "cell_type": "code",
   "execution_count": 4,
   "id": "bbb31c9e",
   "metadata": {
    "pycharm": {
     "is_executing": true
    }
   },
   "outputs": [],
   "source": [
    "def get_itokawa_gravity_field_settings(itokawa_body_fixed_frame, itokawa_radius):\n",
    "    itokawa_gravitational_parameter = 2.36\n",
    "    normalized_cosine_coefficients = np.array([\n",
    "        [1.0, 0.0, 0.0, 0.0, 0.0],\n",
    "        [0.0, 0.0, 0.0, 0.0, 0.0],\n",
    "        [-0.145216, 0.0, 0.219420, 0.0, 0.0],\n",
    "        [0.036115, -0.028139, -0.046894, 0.069022, 0.0],\n",
    "        [0.087852, 0.034069, -0.123263, -0.030673, 0.150282]])\n",
    "    normalized_sine_coefficients = np.array([\n",
    "        [0.0, 0.0, 0.0, 0.0, 0.0],\n",
    "        [0.0, 0.0, 0.0, 0.0, 0.0],\n",
    "        [0.0, 0.0, 0.0, 0.0, 0.0],\n",
    "        [0.0, -0.006137, -0.046894, 0.033976, 0.0],\n",
    "        [0.0, 0.004870, 0.000098, -0.015026, 0.011627]])\n",
    "    return environment_setup.gravity_field.spherical_harmonic(\n",
    "        gravitational_parameter=itokawa_gravitational_parameter,\n",
    "        reference_radius=itokawa_radius,\n",
    "        normalized_cosine_coefficients=normalized_cosine_coefficients,\n",
    "        normalized_sine_coefficients=normalized_sine_coefficients,\n",
    "        associated_reference_frame=itokawa_body_fixed_frame)"
   ]
  },
  {
   "cell_type": "markdown",
   "id": "0b7c5a37",
   "metadata": {},
   "source": [
    "### Itokawa shape settings\n",
    "The next helper function defined, `get_itokawa_shape_settings()` return the shape settings object for Itokawa. It uses a simple spherical model, and take the radius of Itokawa as input."
   ]
  },
  {
   "cell_type": "code",
   "execution_count": 5,
   "id": "8fb19777",
   "metadata": {
    "pycharm": {
     "is_executing": true
    }
   },
   "outputs": [],
   "source": [
    "def get_itokawa_shape_settings(itokawa_radius):\n",
    "    # Creates spherical shape settings\n",
    "    return environment_setup.shape.spherical(itokawa_radius)"
   ]
  },
  {
   "cell_type": "markdown",
   "id": "a39a9dbe",
   "metadata": {},
   "source": [
    "### Simulation bodies\n",
    "Next, the `create_simulation_bodies()` function is setup, that returns an [environment.SystemOfBodies](https://tudatpy.readthedocs.io/en/latest/environment.html#tudatpy.numerical_simulation.environment.SystemOfBodies) object. This object contains all the body settings and body objects required by the simulation. Only one input is required to this function: the radius of Itokawa.\n",
    "\n",
    "Moreover, in the system of bodies that is returned, a `Spacecraft` body is included, with a mass of 400kg, and a radiation pressure interface. This body is the one for which an orbit is to be optimised around Itokawa."
   ]
  },
  {
   "cell_type": "code",
   "execution_count": 6,
   "id": "ae8c4e73",
   "metadata": {
    "pycharm": {
     "is_executing": true
    }
   },
   "outputs": [],
   "source": [
    "def create_simulation_bodies(itokawa_radius):\n",
    "    ### CELESTIAL BODIES ###\n",
    "    # Define Itokawa body frame name\n",
    "    itokawa_body_frame_name = \"Itokawa_Frame\"\n",
    "\n",
    "    # Create default body settings for selected celestial bodies\n",
    "    bodies_to_create = [\"Sun\", \"Earth\", \"Jupiter\", \"Saturn\", \"Mars\"]\n",
    "\n",
    "    # Create default body settings for bodies_to_create, with \"Earth\"/\"J2000\" as\n",
    "    # global frame origin and orientation. This environment will only be valid\n",
    "    # in the indicated time range [simulation_start_epoch --- simulation_end_epoch]\n",
    "    body_settings = environment_setup.get_default_body_settings(\n",
    "        bodies_to_create,\n",
    "        \"SSB\",\n",
    "        \"ECLIPJ2000\")\n",
    "\n",
    "    # Add Itokawa body\n",
    "    body_settings.add_empty_settings(\"Itokawa\")\n",
    "\n",
    "    # Adds Itokawa settings\n",
    "    # Gravity field\n",
    "    body_settings.get(\"Itokawa\").gravity_field_settings = get_itokawa_gravity_field_settings(itokawa_body_frame_name,\n",
    "                                                                        itokawa_radius)\n",
    "    # Rotational model\n",
    "    body_settings.get(\"Itokawa\").rotation_model_settings = get_itokawa_rotation_settings(itokawa_body_frame_name)\n",
    "    # Ephemeris\n",
    "    body_settings.get(\"Itokawa\").ephemeris_settings = get_itokawa_ephemeris_settings(\n",
    "        spice.get_body_gravitational_parameter( 'Sun') )\n",
    "    # Shape (spherical)\n",
    "    body_settings.get(\"Itokawa\").shape_settings = get_itokawa_shape_settings(itokawa_radius)\n",
    "    # Create system of selected bodies\n",
    "    bodies = environment_setup.create_system_of_bodies(body_settings)\n",
    "\n",
    "    ### VEHICLE BODY ###\n",
    "    # Create vehicle object\n",
    "    bodies.create_empty_body(\"Spacecraft\")\n",
    "    bodies.get(\"Spacecraft\").set_constant_mass(400.0)\n",
    "\n",
    "    # Create radiation pressure settings, and add to vehicle\n",
    "    reference_area_radiation = 4.0\n",
    "    radiation_pressure_coefficient = 1.2\n",
    "    radiation_pressure_settings = environment_setup.radiation_pressure.cannonball(\n",
    "        \"Sun\",\n",
    "        reference_area_radiation,\n",
    "        radiation_pressure_coefficient)\n",
    "    environment_setup.add_radiation_pressure_interface(\n",
    "        bodies,\n",
    "        \"Spacecraft\",\n",
    "        radiation_pressure_settings)\n",
    "\n",
    "    return bodies"
   ]
  },
  {
   "cell_type": "markdown",
   "id": "37d66be0",
   "metadata": {},
   "source": [
    "### Acceleration models\n",
    "The `get_acceleration_models()` helper function returns the acceleration models to be used during the astrodynamic simulation. The following accelerations are included:\n",
    " - Gravitational acceleration modelled as a Point Mass from the Sun, Jupiter, Saturn, Mars, and the Earth.\n",
    " - Gravitational acceleration modelled as Spherical Harmonics up to degree and order 4 from Itokawa.\n",
    " - Radiatio pressure from the Sun using a simplified canonnball model.\n",
    "\n",
    "This function takes as input the list of bodies that will be propagated, the list of central bodies related to the propagated bodies, and the system of bodies used."
   ]
  },
  {
   "cell_type": "code",
   "execution_count": 7,
   "id": "0e0c029a",
   "metadata": {
    "pycharm": {
     "is_executing": true
    }
   },
   "outputs": [],
   "source": [
    "def get_acceleration_models(bodies_to_propagate, central_bodies, bodies):\n",
    "    # Define accelerations acting on Spacecraft\n",
    "    accelerations_settings_spacecraft = dict(\n",
    "        Sun =     [ propagation_setup.acceleration.cannonball_radiation_pressure(),\n",
    "                    propagation_setup.acceleration.point_mass_gravity() ],\n",
    "        Itokawa = [ propagation_setup.acceleration.spherical_harmonic_gravity(3, 3) ],\n",
    "        Jupiter = [ propagation_setup.acceleration.point_mass_gravity() ],\n",
    "        Saturn =  [ propagation_setup.acceleration.point_mass_gravity() ],\n",
    "        Mars =    [ propagation_setup.acceleration.point_mass_gravity() ],\n",
    "        Earth =   [ propagation_setup.acceleration.point_mass_gravity() ]\n",
    "    )\n",
    "\n",
    "    # Create global accelerations settings dictionary\n",
    "    acceleration_settings = {\"Spacecraft\": accelerations_settings_spacecraft}\n",
    "\n",
    "    # Create acceleration models\n",
    "    return propagation_setup.create_acceleration_models(\n",
    "        bodies,\n",
    "        acceleration_settings,\n",
    "        bodies_to_propagate,\n",
    "        central_bodies)"
   ]
  },
  {
   "cell_type": "markdown",
   "id": "092c8167",
   "metadata": {},
   "source": [
    "### Termination settings\n",
    "The termination settings for the simulation are defined by the `get_termination_settings()` helper.\n",
    "\n",
    "Nominally, the simulation terminates when a final epoch is reached. However, this can happen in advance if the\n",
    "spacecraft breaks out of the predefined altitude range.\n",
    "This is defined by the four inputs that this helper function takes, related to the mission timing and the mission altitude range."
   ]
  },
  {
   "cell_type": "code",
   "execution_count": 8,
   "id": "9328e34f",
   "metadata": {
    "pycharm": {
     "is_executing": true
    }
   },
   "outputs": [],
   "source": [
    "def get_termination_settings(mission_initial_time, \n",
    "                             mission_duration,\n",
    "                             minimum_distance_from_com,\n",
    "                             maximum_distance_from_com):\n",
    "    # Mission duration\n",
    "    time_termination_settings = propagation_setup.propagator.time_termination(\n",
    "        mission_initial_time + mission_duration,\n",
    "        terminate_exactly_on_final_condition=False\n",
    "    )\n",
    "    # Upper altitude\n",
    "    upper_altitude_termination_settings = propagation_setup.propagator.dependent_variable_termination(\n",
    "        dependent_variable_settings=propagation_setup.dependent_variable.relative_distance('Spacecraft', 'Itokawa'),\n",
    "        limit_value=maximum_distance_from_com,\n",
    "        use_as_lower_limit=False,\n",
    "        terminate_exactly_on_final_condition=False\n",
    "    )\n",
    "    # Lower altitude\n",
    "    lower_altitude_termination_settings = propagation_setup.propagator.dependent_variable_termination(\n",
    "        dependent_variable_settings=propagation_setup.dependent_variable.altitude('Spacecraft', 'Itokawa'),\n",
    "        limit_value=minimum_distance_from_com,\n",
    "        use_as_lower_limit=True,\n",
    "        terminate_exactly_on_final_condition=False\n",
    "    )\n",
    "\n",
    "    # Define list of termination settings\n",
    "    termination_settings_list = [time_termination_settings,\n",
    "                                 upper_altitude_termination_settings,\n",
    "                                 lower_altitude_termination_settings]\n",
    "\n",
    "    return propagation_setup.propagator.hybrid_termination(termination_settings_list,\n",
    "                                                           fulfill_single_condition=True)"
   ]
  },
  {
   "cell_type": "markdown",
   "id": "f0e70333",
   "metadata": {},
   "source": [
    "### Dependent variables to save\n",
    "Finally, the `get_dependent_variables_to_save()` helper function returns a pre-defined list of dependent variables to save during the propagation, alongside the propagated state. This function can be expanded, but contains by default only the position of the spacecraft with respect to the Itokawa asteroid expressed in spherical coordinates."
   ]
  },
  {
   "cell_type": "code",
   "execution_count": 9,
   "id": "20384c9b",
   "metadata": {
    "pycharm": {
     "is_executing": true
    }
   },
   "outputs": [],
   "source": [
    "def get_dependent_variables_to_save():\n",
    "    dependent_variables_to_save = [\n",
    "        propagation_setup.dependent_variable.central_body_fixed_spherical_position(\n",
    "            \"Spacecraft\", \"Itokawa\"\n",
    "        )\n",
    "    ]\n",
    "    return dependent_variables_to_save"
   ]
  }
 ],
 "metadata": {
  "kernelspec": {
   "display_name": "Python 3 (ipykernel)",
   "language": "python",
   "name": "python3"
  },
  "language_info": {
   "codemirror_mode": {
    "name": "ipython",
    "version": 3
   },
   "file_extension": ".py",
   "mimetype": "text/x-python",
   "name": "python",
   "nbconvert_exporter": "python",
   "pygments_lexer": "ipython3",
   "version": "3.8.13"
  }
 },
 "nbformat": 4,
 "nbformat_minor": 5
}
