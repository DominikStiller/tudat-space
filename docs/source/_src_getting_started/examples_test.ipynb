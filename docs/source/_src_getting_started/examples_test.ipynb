{
 "cells": [
  {
   "cell_type": "markdown",
   "id": "68d21676-7dce-41c7-9b74-08cbe08daa8c",
   "metadata": {
    "tags": []
   },
   "source": [
    "# Examples\n",
    "\n",
    "There are several example applications disseminated in various forms."
   ]
  },
  {
   "cell_type": "markdown",
   "id": "7ce2e415-6fff-4634-8b14-e01d1711ca83",
   "metadata": {
    "tags": [
     "nbsphinx-toctree"
    ]
   },
   "source": [
    "* [Propagation examples](./_src_examples/notebooks/propagation.ipynb)\n",
    "* [Estimation examples](./_src_examples/notebooks/estimation.ipynb)\n",
    "* [PyGMO examples](./_src_examples/notebooks/pygmo.ipynb)"
   ]
  },
  {
   "cell_type": "markdown",
   "id": "ed0ff2e0-df3b-4c61-add8-39511061d389",
   "metadata": {
    "jp-MarkdownHeadingCollapsed": true,
    "tags": []
   },
   "source": [
    "## Attention\n",
    "\n",
    "As of Tudatpy version 0.7, a number of modifications have been made to how Tudatpy deals with vehicle orientations, in particular in the context of thrust and aerodynamic guidance. These changes are, in part, :ref:`not backwards compatible<backwards_incompatibility>`. The examples below dealing with thrust and aerodynamics are **not yet up-to-date**. This will be corrected by mid-October."
   ]
  },
  {
   "cell_type": "markdown",
   "id": "03159163-3296-4494-9453-551cf168514b",
   "metadata": {
    "tags": []
   },
   "source": [
    "## Propagation\n",
    "\n",
    "Lorem ipsum\n",
    "\n",
    "## Estimation\n",
    "\n",
    "Lorem ipsum\n",
    "\n",
    "## PyGMO\n",
    "\n",
    "Lorem ipsum\n",
    "\n",
    "### Asteroid Orbit Optimization\n",
    "\n",
    "Lorem ipsum"
   ]
  },
  {
   "cell_type": "code",
   "execution_count": null,
   "id": "3efc8d05-f96c-4309-9acd-b534fc8a8281",
   "metadata": {},
   "outputs": [],
   "source": []
  }
 ],
 "metadata": {
  "kernelspec": {
   "display_name": "Python 3 (ipykernel)",
   "language": "python",
   "name": "python3"
  },
  "language_info": {
   "codemirror_mode": {
    "name": "ipython",
    "version": 3
   },
   "file_extension": ".py",
   "mimetype": "text/x-python",
   "name": "python",
   "nbconvert_exporter": "python",
   "pygments_lexer": "ipython3",
   "version": "3.7.12"
  }
 },
 "nbformat": 4,
 "nbformat_minor": 5
}
